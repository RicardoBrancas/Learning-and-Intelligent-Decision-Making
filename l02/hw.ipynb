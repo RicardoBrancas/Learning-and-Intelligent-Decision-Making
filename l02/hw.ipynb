{
 "cells": [
  {
   "cell_type": "markdown",
   "metadata": {},
   "source": [
    "### Exercise 1\n",
    "#### a)\n",
    "\n",
    "<img src=\"states.png\" width=\"400px\">\n",
    "\n",
    "$ \\mathcal{X} = \\{ (1, both), (2, none), (2, red), (2, both), (3, none), (3, red), (3, both), (4, none), (4, red), (4, both), (5, none), (5, red), (5, both), (6, red), (6, both), (goal, both) \\} $\n",
    "\n",
    "$ \\mathcal{A} = \\{\\text{up}, \\text{down}, \\text{left}, \\text{right}\\}$\n",
    "\n",
    "#### b)\n",
    "\n"
   ]
  },
  {
   "cell_type": "code",
   "execution_count": null,
   "metadata": {},
   "outputs": [],
   "source": []
  }
 ],
 "metadata": {
  "kernelspec": {
   "display_name": "Python 3",
   "language": "python",
   "name": "python3"
  },
  "language_info": {
   "codemirror_mode": {
    "name": "ipython",
    "version": 3
   },
   "file_extension": ".py",
   "mimetype": "text/x-python",
   "name": "python",
   "nbconvert_exporter": "python",
   "pygments_lexer": "ipython3",
   "version": "3.7.0"
  }
 },
 "nbformat": 4,
 "nbformat_minor": 2
}
