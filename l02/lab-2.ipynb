{
 "cells": [
  {
   "cell_type": "markdown",
   "metadata": {},
   "source": [
    "# Learning and Decision Making"
   ]
  },
  {
   "cell_type": "markdown",
   "metadata": {},
   "source": [
    "## Laboratory 2: Markov decision problems\n",
    "\n",
    "In the end of the lab, you should submit all code/answers written in the tasks marked as \"Activity n. XXX\", together with the corresponding outputs and any replies to specific questions posed to the e-mail <adi.tecnico@gmail.com>. Make sure that the subject is of the form [&lt;group n.&gt;] LAB &lt;lab n.&gt;.\n",
    "\n",
    "### 1. Modeling\n",
    "\n",
    "Consider once again the gridworld domain described in the Homework and which you modeled using a Markov decision process.\n",
    "\n",
    "<img src=\"maze.png\" width=\"200px\">\n",
    "\n",
    "Recall that:\n",
    "\n",
    "* At each step, the agent may move in any of the four directions -- up, down, left and right. \n",
    "* Movement across a _grey_ cell division succeeds with a $0.8$ probability and fails with a $0.2$ probability. \n",
    "* Movements across colored cell divisions (blue or red) succeed with a $0.8$ probability _but only if the agent has the corresponding colored key_. Otherwise, they fail with probability $1$. \n",
    "* When the movement fails, the agent remains in the same cell. \n",
    "* To get a colored key, the agent simply needs to stand in the corresponding cell. \n",
    "* The goal of the agent is to reach the cell marked with **\"G\"**. \n",
    "\n",
    "**Throughout the lab, use $\\gamma=0.99$.**"
   ]
  },
  {
   "cell_type": "markdown",
   "metadata": {},
   "source": [
    "---\n",
    "\n",
    "#### Activity 1.        \n",
    "\n",
    "Implement your Markov decision process in Python. In particular,\n",
    "\n",
    "* Create a list with all the states;\n",
    "* Create a list with all the actions;\n",
    "* For each action, define a `numpy` array with the corresponding transition probabilities;\n",
    "* Define a `numpy`array with the costs. Make sure that:\n",
    "    * The costs lie in the interval [0, 1]\n",
    "    * The cost for standing in goal cell is minimal\n",
    "    * The cost for standing in intermediate cells is maximal\n",
    "\n",
    "The order for the states and actions used in the transition probability and cost matrices should match that in the lists of states and actions. \n",
    "\n",
    "**Note**: Don't forget to import `numpy`.\n",
    "\n",
    "---"
   ]
  },
  {
   "cell_type": "code",
   "execution_count": 28,
   "metadata": {
    "scrolled": false
   },
   "outputs": [],
   "source": [
    "import numpy as np\n",
    "\n",
    "gamma = 0.99\n",
    "\n",
    "states = [(1,'both'),\n",
    "          (2,'none'), (2,'red'), (2,'both'),\n",
    "          (3,'none'), (3,'red'), (3,'both'),\n",
    "          (4,'none'), (4,'red'), (4,'both'),\n",
    "          (5,'none'), (5,'red'), (5,'both'),\n",
    "          (6,'red'), (6,'both'), ('goal', 'both')]\n",
    "\n",
    "def probabilities(possible_actions):\n",
    "    probs = np.identity(16)\n",
    "    \n",
    "    for (orig, dest) in possible_actions:\n",
    "        probs[states.index(orig)][states.index(orig)] = 0.2\n",
    "        probs[states.index(orig)][states.index(dest)] = 0.8\n",
    "    \n",
    "    return probs\n",
    "\n",
    "\n",
    "actions = ['up', 'down', 'left', 'right']\n",
    "\n",
    "probs_u = probabilities([((4,'none'), (2,'none')),\n",
    "                         ((4,'red'), (2,'red')),\n",
    "                         ((4,'both'), (2,'both')),\n",
    "                         ((5,'none'), (3,'none')),\n",
    "                         ((5,'red'), (3,'red')),\n",
    "                         ((5,'both'), (3,'both')),\n",
    "                         ((6,'red'), (4,'red')),\n",
    "                         ((6,'both'), (4,'both'))])\n",
    "\n",
    "probs_d = probabilities([((2,'none'), (4,'none')),\n",
    "                         ((2,'red'), (4,'red')),\n",
    "                         ((2,'both'), (4,'both')),\n",
    "                         ((3,'none'), (5,'none')),\n",
    "                         ((3,'red'), (5,'red')),\n",
    "                         ((3,'both'), (5,'both')),\n",
    "                         ((4,'none'), (6,'red')),\n",
    "                         ((4,'red'), (6,'red')),\n",
    "                         ((4,'both'), (6,'both'))])\n",
    "\n",
    "probs_r = probabilities([((1,'both'), (2,'both')),\n",
    "                         ((2,'none'), (3,'none')),\n",
    "                         ((2,'red'), (3,'red')),\n",
    "                         ((2,'both'), (3,'both')),\n",
    "                         ((4,'none'), (5,'none')),\n",
    "                         ((4,'red'), (5,'red')),\n",
    "                         ((4,'both'), (5,'both')),\n",
    "                         ((5,'both'), ('goal','both'))])\n",
    "\n",
    "probs_l = probabilities([((2,'red'), (1,'both')),\n",
    "                         ((2,'both'), (1,'both')),\n",
    "                         ((3,'none'), (2,'none')),\n",
    "                         ((3,'red'), (2,'red')),\n",
    "                         ((3,'both'), (2,'both')),\n",
    "                         ((5,'none'), (4,'none')),\n",
    "                         ((5,'red'), (4,'red')),\n",
    "                         ((5,'both'), (4,'both')),\n",
    "                         (('goal','both'), (5,'both'))])\n",
    "\n",
    "probs = [probs_u, probs_d, probs_l, probs_r]\n",
    "\n",
    "costs = np.ones((len(states), len(actions)))\n",
    "costs[-1] = [0,0,0,0]"
   ]
  },
  {
   "cell_type": "markdown",
   "metadata": {},
   "source": [
    "### 2. Prediction\n",
    "\n",
    "You are now going to evaluate a given policy, computing the corresponding cost-to-go."
   ]
  },
  {
   "cell_type": "markdown",
   "metadata": {
    "raw_mimetype": "text/latex"
   },
   "source": [
    "---\n",
    "\n",
    "#### Activity 2.\n",
    "\n",
    "Describe the policy that, in each state $x$, always moves the agent to the cell closest to the goal (irrespectively of the number of keys in the agent's possession). If multiple such cells exist, the agent should select randomly between the two.\n",
    "\n",
    "For example, suppose that the agent is in cell 2. It should then select randomly between the actions $D$ and $R$. Conversely, suppose that the agent is in cell 4. The knight should then select actions $R$ with probability 1.\n",
    "\n",
    "**Note:** The policy should be described as a vector with as many rows as there are states and as many columns as there are actions, where the entry $(x,a)$ has the probability of selecting action $a$ in state $x$.\n",
    "\n",
    "---"
   ]
  },
  {
   "cell_type": "code",
   "execution_count": 29,
   "metadata": {},
   "outputs": [
    {
     "name": "stdout",
     "output_type": "stream",
     "text": [
      "[[0.         0.         0.         1.        ]\n",
      " [0.         0.5        0.         0.5       ]\n",
      " [0.         0.5        0.         0.5       ]\n",
      " [0.         0.5        0.         0.5       ]\n",
      " [0.         1.         0.         0.        ]\n",
      " [0.         1.         0.         0.        ]\n",
      " [0.         1.         0.         0.        ]\n",
      " [0.         0.         0.         1.        ]\n",
      " [0.         0.         0.         1.        ]\n",
      " [0.         0.         0.         1.        ]\n",
      " [0.         0.         0.         1.        ]\n",
      " [0.         0.         0.         1.        ]\n",
      " [0.         0.         0.         1.        ]\n",
      " [1.         0.         0.         0.        ]\n",
      " [1.         0.         0.         0.        ]\n",
      " [0.33333333 0.33333333 0.         0.33333333]]\n"
     ]
    }
   ],
   "source": [
    "def action_row(acs):\n",
    "    row = np.zeros((len(actions)))\n",
    "    for action in acs:\n",
    "        row[actions.index(action)] = 1 / len(acs)\n",
    "    \n",
    "    return row\n",
    "\n",
    "\n",
    "policy = np.array([action_row(['right']),\n",
    "                  action_row(['right', 'down']),\n",
    "                  action_row(['right', 'down']),\n",
    "                  action_row(['right', 'down']),\n",
    "                  action_row(['down']),\n",
    "                  action_row(['down']),\n",
    "                  action_row(['down']),\n",
    "                  action_row(['right']),\n",
    "                  action_row(['right']),\n",
    "                  action_row(['right']),\n",
    "                  action_row(['right']),\n",
    "                  action_row(['right']),\n",
    "                  action_row(['right']),\n",
    "                  action_row(['up']),\n",
    "                  action_row(['up']),\n",
    "                  action_row(['right', 'up', 'down'])])\n",
    "\n",
    "print(policy)"
   ]
  },
  {
   "cell_type": "markdown",
   "metadata": {},
   "source": [
    "---\n",
    "\n",
    "#### Activity 3.\n",
    "\n",
    "Compute the cost-to-go function $J^\\pi$ associated with the policy from Activity 2.\n",
    "\n",
    "---"
   ]
  },
  {
   "cell_type": "code",
   "execution_count": 30,
   "metadata": {},
   "outputs": [
    {
     "name": "stdout",
     "output_type": "stream",
     "text": [
      "[[  4.89502117]\n",
      " [100.        ]\n",
      " [100.        ]\n",
      " [  3.69420073]\n",
      " [100.        ]\n",
      " [100.        ]\n",
      " [  2.47821842]\n",
      " [100.        ]\n",
      " [100.        ]\n",
      " [  2.47821842]\n",
      " [100.        ]\n",
      " [100.        ]\n",
      " [  1.24688279]\n",
      " [100.        ]\n",
      " [  3.69420073]\n",
      " [  0.        ]]\n"
     ]
    }
   ],
   "source": [
    "P_pi = np.zeros((len(states), len(states)))\n",
    "\n",
    "for a, action in enumerate(actions):\n",
    "    P_pi += np.diag(policy[:, a]).dot(probs[a])\n",
    "\n",
    "c_pi = np.zeros((len(states)))\n",
    "\n",
    "for a, action in enumerate(actions):\n",
    "    c_pi += np.diag(policy[:, a]).dot(costs[:, a])\n",
    "    \n",
    "J_pi = np.linalg.inv(np.identity(len(states)) - gamma * P_pi).dot(c_pi)\n",
    "\n",
    "print(np.vstack(J_pi))"
   ]
  },
  {
   "cell_type": "markdown",
   "metadata": {},
   "source": [
    "### 3. Control\n",
    "\n",
    "In this section you are going to compare value and policy iteration, both in terms of time and number of iterations."
   ]
  },
  {
   "cell_type": "markdown",
   "metadata": {},
   "source": [
    "---\n",
    "\n",
    "#### Activity 4\n",
    "\n",
    "Show that the policy in Activity 3 is _not_ optimal: use value iteration to compute $J^*$ and show that $J^*\\neq J^\\pi$. Track the time and the number of iterations taken to compute $J^*$.\n",
    "\n",
    "**Note 1:** Stop the algorithm when the error between iterations is smaller than $10^{-8}$.\n",
    "\n",
    "**Note 2:** You may find useful the function ``time()`` from the module ``time``.\n",
    "\n",
    "---"
   ]
  },
  {
   "cell_type": "code",
   "execution_count": 33,
   "metadata": {
    "scrolled": false
   },
   "outputs": [
    {
     "name": "stdout",
     "output_type": "stream",
     "text": [
      "[ 4.89502117 10.67823015  6.08086879  3.69420073 11.79196791  7.25193028\n",
      "  2.47821842  9.55043002  7.25193028  2.47821842 10.67823015  8.40839\n",
      "  1.24688279  8.40839     3.69420073  0.        ]\n",
      "Different!\n",
      "29 iterations\n",
      "0.004209756851196289 s\n"
     ]
    }
   ],
   "source": [
    "import time\n",
    "\n",
    "eps = 10e-8\n",
    "\n",
    "old_J = np.zeros(len(states))\n",
    "err = 1\n",
    "i = 0\n",
    "\n",
    "t_start = time.time()\n",
    "while err > eps:\n",
    "    \n",
    "    Qs = [None] * len(actions)\n",
    "    for a, action in enumerate(actions):\n",
    "        Qs[a] = costs[:, a] + gamma * probs[a].dot(old_J)\n",
    "    \n",
    "    new_J = np.min(Qs, axis=0)\n",
    "    \n",
    "    err = np.linalg.norm(new_J - old_J)\n",
    "    i += 1\n",
    "    old_J = new_J\n",
    "\n",
    "t_end = time.time()\n",
    "\n",
    "print(old_J)\n",
    "print( \"Equal!\" if np.array_equal(old_J,J_pi) else \"Different!\")\n",
    "print(i, \"iterations\")\n",
    "print(t_end - t_start, \"s\")"
   ]
  },
  {
   "cell_type": "markdown",
   "metadata": {},
   "source": [
    "---\n",
    "\n",
    "#### Activity 5\n",
    "\n",
    "Compute once again the optimal policy now using policy iteration. Track the time and number of iterations taken and compare to those of Activity 4.\n",
    "\n",
    "**Note:** If you find that numerical errors affect your computations (especially when comparing two values/arrays) you may use the `numpy` function `isclose` with adequately set absolute and relative tolerance parameters (e.g., $10^{-8}$).\n",
    "\n",
    "---"
   ]
  },
  {
   "cell_type": "code",
   "execution_count": 34,
   "metadata": {
    "scrolled": false
   },
   "outputs": [
    {
     "name": "stdout",
     "output_type": "stream",
     "text": [
      "[[0.         0.         0.         1.        ]\n",
      " [0.         1.         0.         0.        ]\n",
      " [0.         0.         1.         0.        ]\n",
      " [0.         0.5        0.         0.5       ]\n",
      " [0.         0.5        0.5        0.        ]\n",
      " [0.         0.         1.         0.        ]\n",
      " [0.         1.         0.         0.        ]\n",
      " [0.         1.         0.         0.        ]\n",
      " [1.         0.         0.         0.        ]\n",
      " [0.         0.         0.         1.        ]\n",
      " [0.         0.         1.         0.        ]\n",
      " [0.5        0.         0.5        0.        ]\n",
      " [0.         0.         0.         1.        ]\n",
      " [1.         0.         0.         0.        ]\n",
      " [1.         0.         0.         0.        ]\n",
      " [0.33333333 0.33333333 0.         0.33333333]]\n",
      "Different!\n",
      "5 iterations\n",
      "0.006566524505615234 s\n"
     ]
    }
   ],
   "source": [
    "import time\n",
    "\n",
    "eps = 10e-8\n",
    "\n",
    "pi = np.ones((len(states), len(actions)))\n",
    "\n",
    "quit = False\n",
    "i = 0\n",
    "\n",
    "t_start = time.time()\n",
    "while not quit:\n",
    "    cpi = np.zeros((len(states)))\n",
    "    Ppi = np.zeros((len(states), len(states)))\n",
    "    for a, action in enumerate(actions):\n",
    "        cpi += np.diag(pi[:, a]).dot(costs[:, a])\n",
    "        Ppi += np.diag(pi[:, a]).dot(probs[a])\n",
    "    \n",
    "    J = np.linalg.inv(np.identity(len(states)) - gamma * Ppi).dot(cpi)\n",
    "    \n",
    "    Qs = [None] * len(actions)\n",
    "    for a, action in enumerate(actions):\n",
    "        Qs[a] = costs[:, a] + gamma * probs[a].dot(J)\n",
    "    \n",
    "    \n",
    "    pinew = np.zeros((len(states), len(actions)))\n",
    "    for a, action in enumerate(actions):\n",
    "        pinew[:, a] = np.isclose(Qs[a], np.min(Qs, axis=0), atol=eps, rtol=eps).astype(int)\n",
    "    \n",
    "    pinew = pinew / np.sum(pinew, axis=1, keepdims=True)\n",
    "    \n",
    "    quit = np.isclose(pi, pinew, atol=eps, rtol=eps).all()\n",
    "    pi = pinew\n",
    "    i += 1\n",
    "\n",
    "t_end = time.time()\n",
    "\n",
    "print(pi)\n",
    "print( \"Equal!\" if np.array_equal(policy,pi) else \"Different!\")\n",
    "print(i, \"iterations\")\n",
    "print(t_end - t_start, \"s\")"
   ]
  },
  {
   "cell_type": "markdown",
   "metadata": {},
   "source": [
    "### 4. Simulation\n",
    "\n",
    "Finally, in this section you will check whether the theoretical computations of the cost-to-go actually correspond to the cost incurred by an agent following a policy."
   ]
  },
  {
   "cell_type": "markdown",
   "metadata": {},
   "source": [
    "---\n",
    "\n",
    "#### Activity 6\n",
    "\n",
    "Suppose that the agent is where depicted in Fig. 1, and consider the situations (i) where it has no keys; (ii) where it has only the red key; (iii) where it has both keys. For each of the three situations,  \n",
    "\n",
    "* Generate **100** trajectories of 10,000 steps each, following the optimal policy for the MDP. \n",
    "* For each trajectory, compute the accumulated (discounted) cost. \n",
    "* Compute the average cost over the 100 trajectories.\n",
    "* Compare the resulting value with that computed in Activity 4. \n",
    "\n",
    "** Note:** The simulation may take a bit of time, don't despair ☺️.\n",
    "\n",
    "---"
   ]
  },
  {
   "cell_type": "code",
   "execution_count": 35,
   "metadata": {},
   "outputs": [
    {
     "name": "stdout",
     "output_type": "stream",
     "text": [
      "10.633196100897116\n",
      "8.453333899316059\n",
      "1.27621198\n"
     ]
    }
   ],
   "source": [
    "for state_0 in [states.index((5, 'none')), states.index((5, 'red')), states.index((5, 'both'))]:\n",
    "    run_costs = []\n",
    "    for i in range(100):\n",
    "        state = state_0\n",
    "        cost = 0\n",
    "        acum_gamma = 1\n",
    "        for k in range(10000):\n",
    "            a = np.random.choice(len(actions), p = pi[state])\n",
    "            \n",
    "            cost += costs[state][a] * acum_gamma\n",
    "            acum_gamma *= gamma\n",
    "            \n",
    "            state = np.random.choice(len(states), p = probs[a][state])\n",
    "            \n",
    "        run_costs.append(cost)\n",
    "        print(str(i) + '%', end='\\r', flush=True)\n",
    "    print(np.sum(run_costs) / 100)\n"
   ]
  },
  {
   "cell_type": "code",
   "execution_count": null,
   "metadata": {},
   "outputs": [],
   "source": []
  }
 ],
 "metadata": {
  "celltoolbar": "Raw Cell Format",
  "kernelspec": {
   "display_name": "Python 3",
   "language": "python",
   "name": "python3"
  },
  "language_info": {
   "codemirror_mode": {
    "name": "ipython",
    "version": 3
   },
   "file_extension": ".py",
   "mimetype": "text/x-python",
   "name": "python",
   "nbconvert_exporter": "python",
   "pygments_lexer": "ipython3",
   "version": "3.7.1"
  }
 },
 "nbformat": 4,
 "nbformat_minor": 1
}
