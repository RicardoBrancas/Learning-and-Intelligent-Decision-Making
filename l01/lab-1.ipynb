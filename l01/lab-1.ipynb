{
 "cells": [
  {
   "cell_type": "markdown",
   "metadata": {},
   "source": [
    "# Learning and Decision Making"
   ]
  },
  {
   "cell_type": "markdown",
   "metadata": {},
   "source": [
    "## Laboratory 1: Markov chains\n",
    "\n",
    "In the end of the lab, you should submit all code/answers written in the tasks marked as \"Activity n. XXX\", together with the corresponding outputs and any replies to specific questions posed to the e-mail <adi.tecnico@gmail.com>. Make sure that the subject is of the form [&lt;group n.&gt;] LAB &lt;lab n.&gt;.\n",
    "\n",
    "### 1. Modeling\n",
    "\n",
    "Consider once again the train modeling problem described in the Homework and for which you wrote a Markov chain model:\n",
    "\n",
    "<img src=\"trains.png\" width=\"400px\">\n",
    "\n",
    "Recall that your chain should describe the motion of the single train traveling the network, where: \n",
    "\n",
    "* Stations $A$ and $B$ are just like regular stops;\n",
    "* The travel time between any two consecutive stops is exactly 10 minutes. The train stops exactly 2 minutes in each location.\n",
    "* At the intersection marked with a bold $\\times$, the train follows the branch 1-3 with probability 0.5, the branch 4 with probability 0.15, and the branch 5-6 with probability 0.35."
   ]
  },
  {
   "cell_type": "markdown",
   "metadata": {},
   "source": [
    "---\n",
    "\n",
    "#### Activity 1.        \n",
    "\n",
    "Implement your Markov chain model in Python. In particular,\n",
    "\n",
    "* Create a list with all the states;\n",
    "* Define a `numpy` array with the corresponding transition probabilities.\n",
    "\n",
    "The order for the states used in the transition probability matrix should match that in the list of states. \n",
    "\n",
    "**Note 1**: Don't forget to import `numpy`. If you need additional matrix operations (such as matrix powers or eigenvalues and eigenvectors), you may also import the library `numpy.linalg`.\n",
    "\n",
    "**Note 2**: Make sure to print the result in the end.\n",
    "\n",
    "---"
   ]
  },
  {
   "cell_type": "code",
   "execution_count": 1,
   "metadata": {},
   "outputs": [
    {
     "name": "stdout",
     "output_type": "stream",
     "text": [
      "['Station A', 'Stop 1', 'Stop 2', 'Stop 3', 'Stop 4', 'Stop 5', 'Stop 6', 'Station B']\n",
      "[[0.   0.5  0.   0.   0.15 0.35 0.   0.  ]\n",
      " [0.   0.   1.   0.   0.   0.   0.   0.  ]\n",
      " [0.   0.   0.   1.   0.   0.   0.   0.  ]\n",
      " [0.   0.   0.   0.   0.   0.   0.   1.  ]\n",
      " [0.   0.   0.   0.   0.   0.   0.   1.  ]\n",
      " [0.   0.   0.   0.   0.   0.   1.   0.  ]\n",
      " [0.   0.   0.   0.   0.   0.   0.   1.  ]\n",
      " [1.   0.   0.   0.   0.   0.   0.   0.  ]]\n"
     ]
    }
   ],
   "source": [
    "import numpy\n",
    "\n",
    "states = [\"Station A\", \"Stop 1\", \"Stop 2\", \"Stop 3\", \"Stop 4\", \"Stop 5\", \"Stop 6\", \"Station B\"]\n",
    "\n",
    "prob = numpy.array([[0, .5, 0, 0, .15, .35, 0, 0],\n",
    "                    [0, 0, 1, 0, 0, 0, 0, 0],\n",
    "                    [0, 0, 0, 1, 0, 0, 0, 0],\n",
    "                    [0 ,0 ,0 ,0 ,0 ,0 ,0 ,1],\n",
    "                    [0 ,0 ,0 ,0 ,0 ,0 ,0 ,1],\n",
    "                    [0 ,0 ,0 ,0 ,0 ,0 ,1 ,0],\n",
    "                    [0 ,0 ,0 ,0 ,0 ,0 ,0 ,1],\n",
    "                    [1 ,0 ,0 ,0 ,0 ,0 ,0 ,0]])\n",
    "\n",
    "print(states)\n",
    "print(prob)"
   ]
  },
  {
   "cell_type": "markdown",
   "metadata": {},
   "source": [
    "---\n",
    "\n",
    "#### Activity 2.\n",
    "\n",
    "Compute, using the proper transition matrix manipulations, the probability of the following trajectories:\n",
    "\n",
    "* 4 - $B$ - $A$ - 4\n",
    "* $A$ - 2 - 3 - $B$ - $A$\n",
    "* 5 - 6 - $B$ - $A$ - 4\n",
    "\n",
    "**Note:** Make sure to print the result in the end.\n",
    "\n",
    "---"
   ]
  },
  {
   "cell_type": "code",
   "execution_count": 2,
   "metadata": {},
   "outputs": [
    {
     "name": "stdout",
     "output_type": "stream",
     "text": [
      "0.15\n",
      "0.0\n",
      "0.15\n"
     ]
    }
   ],
   "source": [
    "print(prob[4][7] * prob[7][0] * prob[0][4])\n",
    "print(prob[0][2] * prob[2][3] * prob[3][7] * prob[7][0])\n",
    "print(prob[5][6] * prob[6][7] * prob[7][0] * prob[0][4])"
   ]
  },
  {
   "cell_type": "markdown",
   "metadata": {},
   "source": [
    "### 2. Stability"
   ]
  },
  {
   "cell_type": "markdown",
   "metadata": {},
   "source": [
    "---\n",
    "\n",
    "#### Activity 3\n",
    "\n",
    "Compute the stationary distribution for the chain. Confirm, computationally, that it is indeed the stationary distribution.\n",
    "\n",
    "**Note:** The stationary distribution is a *left* eigenvector of the transition probability matrix associated to the eigenvalue 1. As such, you may find useful the numpy function `numpy.linalg.eig`. Also, recall that the stationary distribution is *a distribution*.\n",
    "\n",
    "---"
   ]
  },
  {
   "cell_type": "code",
   "execution_count": 3,
   "metadata": {},
   "outputs": [
    {
     "name": "stdout",
     "output_type": "stream",
     "text": [
      "[ 1.00000000e+00+0.00000000e+00j  1.60534664e-01+8.77664884e-01j\n",
      "  1.60534664e-01-8.77664884e-01j -6.60534664e-01+4.37928958e-01j\n",
      " -6.60534664e-01-4.37928958e-01j -4.08250093e-17+2.64309410e-09j\n",
      " -4.08250093e-17-2.64309410e-09j  3.55105370e-17+0.00000000e+00j]\n"
     ]
    }
   ],
   "source": [
    "import numpy.linalg\n",
    "\n",
    "def normalize(vec):\n",
    "    s = 0\n",
    "    for elem in vec:\n",
    "        s += elem\n",
    "    v = []\n",
    "    for elem in vec:\n",
    "        v.append(elem/s)\n",
    "    return v\n",
    "\n",
    "w, v = numpy.linalg.eig(prob.transpose())\n",
    "\n",
    "print(w)\n",
    "\n",
    "# i = 0\n",
    "# for elem in w:\n",
    "#     if round(elem, 14) == 1+0j:\n",
    "#         break\n",
    "#     i += 1\n",
    "    \n",
    "# eigv = v[i].transpose().round(14)\n",
    "# print(normalize(eigv.round(2)))"
   ]
  },
  {
   "cell_type": "markdown",
   "metadata": {},
   "source": [
    "---\n",
    "\n",
    "#### Activity 4.\n",
    "\n",
    "Empirically show that the chain is ergodic.\n",
    "\n",
    "**Note:** Recall that a chain is ergodic if, given any initial distribution, it converges to the stationary distribution.\n",
    "\n",
    "---"
   ]
  },
  {
   "cell_type": "code",
   "execution_count": 4,
   "metadata": {},
   "outputs": [],
   "source": [
    "# -- Insert your code here -- #"
   ]
  },
  {
   "cell_type": "markdown",
   "metadata": {},
   "source": [
    "### 3. Simulation\n",
    "\n",
    "You are now going to *simulate* the Markov chain that you defined in Question #1."
   ]
  },
  {
   "cell_type": "markdown",
   "metadata": {},
   "source": [
    "---\n",
    "\n",
    "#### Activity 5\n",
    "\n",
    "Generate a 10,000-step long trajectory of the chain defined in Activity #1. \n",
    "\n",
    "---"
   ]
  },
  {
   "cell_type": "code",
   "execution_count": 5,
   "metadata": {},
   "outputs": [],
   "source": [
    "# -- Insert your code here -- #"
   ]
  },
  {
   "cell_type": "markdown",
   "metadata": {},
   "source": [
    "---\n",
    "\n",
    "#### Activity 6\n",
    "\n",
    "Draw a histogram of the trajectory generated in Activity #5. Make sure that the histogram has one bin for each state. Compare the relative frequencies with the result of Activity #3.\n",
    "\n",
    "**Note**: Don't forget to load `matplotlib`.\n",
    "\n",
    "---"
   ]
  },
  {
   "cell_type": "code",
   "execution_count": 6,
   "metadata": {},
   "outputs": [],
   "source": [
    "# -- Insert your code here -- #"
   ]
  }
 ],
 "metadata": {
  "kernelspec": {
   "display_name": "Python 3",
   "language": "python",
   "name": "python3"
  },
  "language_info": {
   "codemirror_mode": {
    "name": "ipython",
    "version": 3
   },
   "file_extension": ".py",
   "mimetype": "text/x-python",
   "name": "python",
   "nbconvert_exporter": "python",
   "pygments_lexer": "ipython3",
   "version": "3.7.0"
  }
 },
 "nbformat": 4,
 "nbformat_minor": 1
}
