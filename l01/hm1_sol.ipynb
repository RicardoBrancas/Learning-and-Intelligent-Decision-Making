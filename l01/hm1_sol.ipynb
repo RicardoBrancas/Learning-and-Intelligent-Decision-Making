{
 "cells": [
  {
   "cell_type": "markdown",
   "metadata": {},
   "source": [
    "## Exercise 1\n",
    "\n",
    "#### a)  \n",
    "$ \\mathcal{X} = \\{ S_A, S_1, S_2, S_3, S_4, S_5, S_6, S_B \\} $\n",
    "\n",
    "$ P = \\begin{bmatrix}\n",
    "    0 & 0.5 & 0 & 0 & 0.15 & 0.35 & 0 & 0 \\\\\n",
    "    0 & 0   & 1 & 0 & 0    & 0    & 0 & 0 \\\\\n",
    "    0 & 0   & 0 & 1 & 0    & 0    & 0 & 0 \\\\\n",
    "    0 & 0   & 0 & 0 & 0    & 0    & 0 & 1 \\\\\n",
    "    0 & 0   & 0 & 0 & 0    & 0    & 0 & 1 \\\\\n",
    "    0 & 0   & 0 & 0 & 0    & 0    & 1 & 0 \\\\\n",
    "    0 & 0   & 0 & 0 & 0    & 0    & 0 & 1 \\\\\n",
    "    1 & 0   & 0 & 0 & 0    & 0    & 0 & 0\n",
    "\\end{bmatrix}  $\n",
    "\n",
    "#### b)  \n",
    "\n",
    "Com base na resposta anterior, temos:\n",
    "\n",
    "$ x_3 = x_0 \\times P^3 $\n",
    "\n",
    "$ x_3 = \\begin{bmatrix} 1 & 0 & 0 & 0 & 0 & 0 & 0 & 0 \\end{bmatrix} \\times \\begin{bmatrix}\n",
    "    0.15 & 0   & 0   & 0.5 & 0    & 0    & 0    & 0.35 \\\\\n",
    "    0    & 0   & 0   & 0   & 0    & 0    & 0    & 1    \\\\\n",
    "    1    & 0   & 0   & 0   & 0    & 0    & 0    & 0    \\\\\n",
    "    0    & 0.5 & 0   & 0   & 0.15 & 0.35 & 0    & 0    \\\\\n",
    "    0    & 0.5 & 0   & 0   & 0.15 & 0.35 & 0    & 0    \\\\\n",
    "    1    & 0   & 0   & 0   & 0    & 0    & 0    & 0    \\\\\n",
    "    0    & 0.5 & 0   & 0   & 0.15 & 0.35 & 0    & 0    \\\\\n",
    "    0    & 0   & 0.5 & 0   & 0    & 0    & 0.35 & 0.15\n",
    "\\end{bmatrix} $\n",
    "\n",
    "Como tal,\n",
    "\n",
    "$ x_3 = \\begin{bmatrix} 0.15 & 0   & 0   & 0.5 & 0    & 0    & 0    & 0.35 \\end{bmatrix} $\n",
    "\n",
    "Ou seja, existe uma probabilidade de 15% de o comboio estar na Estação A, 50% de estar na paragem 3 e 35% de estar na estação B.\n",
    "\n",
    "#### c)  \n",
    "\n",
    "Existem 3 ramos possíveis que conduzem desde a paragem 4 até, de volta, à paragem 4. Consideremos o ramo A que passa pela paragem 1, o ramo B que vai diretamente para a 4 e o ramo C que passa pela 5.\n",
    "Sejam $ t_A $, $ t_B $ e $ t_C $ os tempos correspondentes a um único ciclo (partindo da paragem 4 e indo até à paragem imadiatamente anterior à estação B).\n",
    "\n",
    "$ t_A = 5 * 10 + 5 * 2 = 60 $\n",
    "\n",
    "$ t_B = 3 * 10 + 2 * 2 = 34 $\n",
    "\n",
    "$ t_C = 4 * 10 + 4 * 2 = 48 $\n",
    "\n",
    "Assim, é possível construir uma equação que permite calcular o tempo esperado, utilizando estes tempos \"parciais\" e a probabilidade de cada ramo ser tomado. Seja $ T $ esse tempo:\n",
    "\n",
    "$ T = P_A * (t_A + T) + P_B * t_B + P_C + (t_C + T) \\\\ \n",
    "\\Leftrightarrow T = 0.5 * (60 + T) + 0.15 * 34 + 0.35 * (48 + T) \\\\\n",
    "\\Leftrightarrow T = 346$"
   ]
  }
 ],
 "metadata": {
  "kernelspec": {
   "display_name": "Python 3",
   "language": "python",
   "name": "python3"
  },
  "language_info": {
   "codemirror_mode": {
    "name": "ipython",
    "version": 3
   },
   "file_extension": ".py",
   "mimetype": "text/x-python",
   "name": "python",
   "nbconvert_exporter": "python",
   "pygments_lexer": "ipython3",
   "version": "3.7.0"
  }
 },
 "nbformat": 4,
 "nbformat_minor": 2
}
